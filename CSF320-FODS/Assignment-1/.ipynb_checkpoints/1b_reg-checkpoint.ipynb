{
 "cells": [
  {
   "cell_type": "code",
   "execution_count": 1,
   "id": "760582bf",
   "metadata": {},
   "outputs": [],
   "source": [
    "import numpy as np\n",
    "import pandas as pd\n",
    "import random\n",
    "import matplotlib.pyplot as plt"
   ]
  },
  {
   "cell_type": "code",
   "execution_count": 2,
   "id": "bd4573d5",
   "metadata": {},
   "outputs": [],
   "source": [
    "dataset = pd.read_csv('./Dataset/fods_1.csv')\n",
    "dataset.head()\n",
    "m= len(df)"
   ]
  },
  {
   "cell_type": "code",
   "execution_count": 3,
   "id": "b05b964f",
   "metadata": {},
   "outputs": [
    {
     "data": {
      "text/plain": [
       "(546, 1)"
      ]
     },
     "execution_count": 3,
     "metadata": {},
     "output_type": "execute_result"
    }
   ],
   "source": [
    "f = np.ones((m, 1))\n",
    "f.shape"
   ]
  },
  {
   "cell_type": "code",
   "execution_count": 4,
   "id": "0a6fda09",
   "metadata": {},
   "outputs": [],
   "source": [
    "data = np.c_[f,dataset['MLOGP'],dataset['RDCHI'],dataset.iloc[:,-1]]"
   ]
  },
  {
   "cell_type": "code",
   "execution_count": 5,
   "id": "671300aa",
   "metadata": {},
   "outputs": [
    {
     "data": {
      "text/plain": [
       "(546, 4)"
      ]
     },
     "execution_count": 5,
     "metadata": {},
     "output_type": "execute_result"
    }
   ],
   "source": [
    "data.shape"
   ]
  },
  {
   "cell_type": "code",
   "execution_count": 6,
   "id": "dc574bc3",
   "metadata": {},
   "outputs": [],
   "source": [
    "J_train = []\n",
    "J_test = []"
   ]
  },
  {
   "cell_type": "code",
   "execution_count": 7,
   "id": "fdd5ae94",
   "metadata": {},
   "outputs": [],
   "source": [
    "def compute(data,params):\n",
    "    x = data[:,0:-1]\n",
    "    yhat = np.dot(x,params)\n",
    "    return yhat\n"
   ]
  },
  {
   "cell_type": "code",
   "execution_count": 8,
   "id": "15409e04",
   "metadata": {},
   "outputs": [],
   "source": [
    "def norm_training(data):\n",
    "    x = data[:,1:-1]\n",
    "    xm = np.mean(x,axis=0)\n",
    "    xs = np.std(x,axis=0)\n",
    "    norm_x=np.divide((x-xm),xs)\n",
    "    \n",
    "    norm = np.c_[data[:,0],norm_x,data[:,-1]]\n",
    "    \n",
    "    return norm,x_mean,x_std"
   ]
  },
  {
   "cell_type": "code",
   "execution_count": 9,
   "id": "f6fa59e2",
   "metadata": {},
   "outputs": [],
   "source": [
    "def norm_testing(data,xm,xs):\n",
    "    x = data[:,1:-1]\n",
    "    x_norm = np.divide((x - xm) ,xs)\n",
    "    norm = np.c_[data[:,0],x_norm,data[:,-1]]\n",
    "    return norm"
   ]
  },
  {
   "cell_type": "code",
   "execution_count": 10,
   "id": "79e88039",
   "metadata": {},
   "outputs": [],
   "source": [
    "def testCost(data, params):\n",
    "    sz = len(data)\n",
    "    X = data[:,0:-1]\n",
    "    y = data[:,[-1]]\n",
    "    \n",
    "    loss = np.sum((np.dot(X, params) - y)**2) / (2 * sz)\n",
    "    \n",
    "    return loss"
   ]
  },
  {
   "cell_type": "code",
   "execution_count": 11,
   "id": "15c0ce1f",
   "metadata": {},
   "outputs": [],
   "source": [
    "rangelist = list(range(m)) # 0 to 545\n",
    "size = int(len(rangelist) * 0.8)\n",
    "frac=random.sample(rangelist,size)\n",
    "rem=[i for i in rangelist if i not in frac]\n",
    "\n",
    "qlist=[0.5,1,2,4]\n",
    "lamda=np.arange(0,1,0.1)"
   ]
  },
  {
   "cell_type": "code",
   "execution_count": 12,
   "id": "967bb5e7",
   "metadata": {},
   "outputs": [],
   "source": [
    "def Cost(data,params,q,l):\n",
    "    sz = len(data)\n",
    "    x = data[:,0:-1]\n",
    "    y = data[:,[-1] ]\n",
    "    J = (np.sum((np.dot(x,params) - y) ** 2) + (l * (np.sum(np.absolute(params[1:]) ** q)) )) / (2*sz)\n",
    "    return J\n",
    "    "
   ]
  },
  {
   "cell_type": "code",
   "execution_count": 13,
   "id": "5f708222",
   "metadata": {},
   "outputs": [],
   "source": [
    "def grad_desc(data,params,q,l,lr=0.001,epochs=100000):\n",
    "    sz = len(data)\n",
    "    x = data[:,0:-1]\n",
    "    y = data[:, [-1] ]\n",
    "    J_temp = np.zeros(epochs)\n",
    "    \n",
    "    for itr in range (epochs):\n",
    "        if q == 0.5:\n",
    "            regval = np.ones(params.shape) \n",
    "            regval[0][0] = 0\n",
    "            for j in range(1, params.shape[0]):\n",
    "                if params[j][0] == 0:\n",
    "                    regval[j][0] = 0\n",
    "                elif params[j][0] > 0:\n",
    "                    regval[j][0] = (1/4)*(np.absolute(params[j][0])**(-0.5))\n",
    "                else:\n",
    "                    regval[j][0] = (-1/4)*(np.absolute(params[j][0])**(-0.5)) \n",
    "            \n",
    "            \n",
    "            \n",
    "        elif q == 1:\n",
    "            regval = np.ones(params.shape)\n",
    "            regval[0][0] = 0\n",
    "            for k in range(1,params.shape[0]):\n",
    "                if params[k][0] >= 0:\n",
    "                    regval[k][0]=1\n",
    "                else:\n",
    "                    regval[k][0]=0\n",
    "                    \n",
    "                    \n",
    "        elif q == 2:\n",
    "             regval = np.concatenate((np.array([0]).reshape(1,1), params[1:]), axis = 0)\n",
    "            \n",
    "            \n",
    "        elif q == 4:\n",
    "            regval = 2 * ((np.concatenate((np.array([0]).reshape(1,1) , params[1:] ) ,axis = 0)) ** 3)\n",
    "        \n",
    "        \n",
    "        \n",
    "        \n",
    "        \n",
    "        \n",
    "        loss = np.dot(x.T,(np.dot(x,params) - y))\n",
    "        \n",
    "        params = params - (lr/sz) * (loss + regval*l)\n",
    "        J_temp[itr] = Cost(data,params,q,l)\n",
    "        \n",
    "    return params,J_temp \n",
    "    \n",
    "    "
   ]
  },
  {
   "cell_type": "markdown",
   "id": "eaf969df",
   "metadata": {},
   "source": [
    "## Main Code"
   ]
  },
  {
   "cell_type": "code",
   "execution_count": 14,
   "id": "55deecfe",
   "metadata": {},
   "outputs": [],
   "source": [
    "for q in qlist:\n",
    "    for l in lamda:\n",
    "        train_data = data[frac,:]\n",
    "        test_data = data[rem,:]\n",
    "        train_data,train_mean,train_std = norm_training(train_data)\n",
    "        n = data[:,0:-1].shape[1]\n",
    "        params = np.zeros((n,1))\n",
    "        \n",
    "        params,J_list = grad_desc(train_data,params,q,l,0.001,100000)\n",
    "        J_train.append(J_list[-1])\n",
    "        \n",
    "        test_data = norm_testing(test_data,train_mean,train_std)\n",
    "        \n",
    "        yhat = compute(test_data,params)\n",
    "        test_cost = testCost(test_data,params)\n",
    "        J_test.append(test_cost)"
   ]
  },
  {
   "cell_type": "code",
   "execution_count": 15,
   "id": "bf5a207f",
   "metadata": {},
   "outputs": [
    {
     "data": {
      "text/plain": [
       "40"
      ]
     },
     "execution_count": 15,
     "metadata": {},
     "output_type": "execute_result"
    }
   ],
   "source": [
    "len(J_train)"
   ]
  },
  {
   "cell_type": "code",
   "execution_count": 16,
   "id": "2b874535",
   "metadata": {},
   "outputs": [
    {
     "data": {
      "text/plain": [
       "[0.9368830087398538,\n",
       " 0.9370587038452609,\n",
       " 0.9372343896690506,\n",
       " 0.9374100662092957,\n",
       " 0.9375857334640681,\n",
       " 0.9377613914314376,\n",
       " 0.9379370401094737,\n",
       " 0.9381126794962432,\n",
       " 0.9382883095898128,\n",
       " 0.9384639303882477,\n",
       " 0.9368830087398538,\n",
       " 0.9370204422134019,\n",
       " 0.9371578756869499,\n",
       " 0.937295309160498,\n",
       " 0.9374327426340456,\n",
       " 0.9375701761075936,\n",
       " 0.9377076095811415,\n",
       " 0.9378450430546895,\n",
       " 0.9379824765282374,\n",
       " 0.9381199100017856,\n",
       " 0.9368830087398538,\n",
       " 0.9369720065950281,\n",
       " 0.9370609712131468,\n",
       " 0.9371499026137428,\n",
       " 0.9372388008163317,\n",
       " 0.9373276658404138,\n",
       " 0.9374164977054719,\n",
       " 0.9375052964309728,\n",
       " 0.9375940620363676,\n",
       " 0.9376827945410899,\n",
       " 0.9368830087398538,\n",
       " 0.9369271026649066,\n",
       " 0.9369711520521009,\n",
       " 0.937015157018755,\n",
       " 0.9370591176816678,\n",
       " 0.937103034157123,\n",
       " 0.9371469065608926,\n",
       " 0.9371907350082392,\n",
       " 0.9372345196139196,\n",
       " 0.9372782604921881]"
      ]
     },
     "execution_count": 16,
     "metadata": {},
     "output_type": "execute_result"
    }
   ],
   "source": [
    "J_train"
   ]
  },
  {
   "cell_type": "code",
   "execution_count": 17,
   "id": "e46c9409",
   "metadata": {},
   "outputs": [
    {
     "data": {
      "text/plain": [
       "[0.8309748058550462,\n",
       " 0.8309639489932247,\n",
       " 0.830953099355058,\n",
       " 0.8309422569430193,\n",
       " 0.8309314217595845,\n",
       " 0.8309205938072307,\n",
       " 0.8309097730884384,\n",
       " 0.8308989596056896,\n",
       " 0.8308881533614686,\n",
       " 0.8308773543582623,\n",
       " 0.8309748058550462,\n",
       " 0.8309464399850287,\n",
       " 0.8309181519811594,\n",
       " 0.8308899418434379,\n",
       " 0.8308618095718652,\n",
       " 0.830833755166441,\n",
       " 0.8308057786271652,\n",
       " 0.8307778799540378,\n",
       " 0.8307500591470587,\n",
       " 0.8307223162062283,\n",
       " 0.8309748058550462,\n",
       " 0.8309626985668895,\n",
       " 0.8309506243142036,\n",
       " 0.8309385830624784,\n",
       " 0.8309265747772425,\n",
       " 0.830914599424066,\n",
       " 0.8309026569685575,\n",
       " 0.8308907473763664,\n",
       " 0.8308788706131801,\n",
       " 0.8308670266447278,\n",
       " 0.8309748058550462,\n",
       " 0.8309704675276361,\n",
       " 0.8309661640612835,\n",
       " 0.8309618952788547,\n",
       " 0.8309576610044018,\n",
       " 0.8309534610631578,\n",
       " 0.8309492952815221,\n",
       " 0.8309451634870539,\n",
       " 0.8309410655084609,\n",
       " 0.8309370011755903]"
      ]
     },
     "execution_count": 17,
     "metadata": {},
     "output_type": "execute_result"
    }
   ],
   "source": [
    "J_test"
   ]
  }
 ],
 "metadata": {
  "kernelspec": {
   "display_name": "Python 3 (ipykernel)",
   "language": "python",
   "name": "python3"
  },
  "language_info": {
   "codemirror_mode": {
    "name": "ipython",
    "version": 3
   },
   "file_extension": ".py",
   "mimetype": "text/x-python",
   "name": "python",
   "nbconvert_exporter": "python",
   "pygments_lexer": "ipython3",
   "version": "3.9.7"
  }
 },
 "nbformat": 4,
 "nbformat_minor": 5
}
