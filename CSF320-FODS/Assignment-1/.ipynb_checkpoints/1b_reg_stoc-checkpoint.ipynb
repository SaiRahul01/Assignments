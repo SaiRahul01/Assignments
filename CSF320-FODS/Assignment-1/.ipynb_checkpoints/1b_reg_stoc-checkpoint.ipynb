{
 "cells": [
  {
   "cell_type": "code",
   "execution_count": 45,
   "id": "f522ea6b",
   "metadata": {},
   "outputs": [],
   "source": [
    "import numpy as np\n",
    "import pandas as pd\n",
    "import random\n",
    "import matplotlib.pyplot as plt"
   ]
  },
  {
   "cell_type": "code",
   "execution_count": 46,
   "id": "411439fb",
   "metadata": {},
   "outputs": [],
   "source": [
    "df = pd.read_csv('./Dataset/fods_1.csv')\n",
    "df.head()\n",
    "m= len(df)"
   ]
  },
  {
   "cell_type": "code",
   "execution_count": 47,
   "id": "19f4e020",
   "metadata": {},
   "outputs": [
    {
     "data": {
      "text/plain": [
       "(546, 1)"
      ]
     },
     "execution_count": 47,
     "metadata": {},
     "output_type": "execute_result"
    }
   ],
   "source": [
    "f = np.ones((len(df), 1))\n",
    "f.shape"
   ]
  },
  {
   "cell_type": "code",
   "execution_count": 48,
   "id": "06eec7f7",
   "metadata": {},
   "outputs": [],
   "source": [
    "data = np.c_[f,df['MLOGP'],df['RDCHI'],df.iloc[:,-1]]"
   ]
  },
  {
   "cell_type": "code",
   "execution_count": 49,
   "id": "1558fe4a",
   "metadata": {},
   "outputs": [],
   "source": [
    "J_train = []\n",
    "J_test = []"
   ]
  },
  {
   "cell_type": "code",
   "execution_count": 50,
   "id": "17466e28",
   "metadata": {},
   "outputs": [],
   "source": [
    "def compute(data,params):\n",
    "    x = data[:,0:-1]\n",
    "    yhat = np.dot(x,params)\n",
    "    return yhat\n"
   ]
  },
  {
   "cell_type": "code",
   "execution_count": 51,
   "id": "0d82ebb1",
   "metadata": {},
   "outputs": [],
   "source": [
    "def norm_training(data):\n",
    "    x = data[:,1:-1]\n",
    "    x_mean = np.mean(x,axis=0)\n",
    "    x_std = np.std(x,axis=0)\n",
    "    norm_x=np.divide((x-x_mean),x_std)\n",
    "    \n",
    "    norm = np.c_[data[:,0],norm_x,data[:,-1]]\n",
    "    return norm,x_mean,x_std"
   ]
  },
  {
   "cell_type": "code",
   "execution_count": 52,
   "id": "c8098603",
   "metadata": {},
   "outputs": [],
   "source": [
    "def norm_testing(data,x_mean,x_std):\n",
    "    x = data[:,1:-1]\n",
    "    x_norm = np.divide((x - x_mean) ,x_std)\n",
    "    norm = np.c_[data[:,0],x_norm,data[:,-1]]\n",
    "    return norm"
   ]
  },
  {
   "cell_type": "code",
   "execution_count": 53,
   "id": "16cad607",
   "metadata": {},
   "outputs": [],
   "source": [
    "def testCost(data, params):\n",
    "    mm = len(data)\n",
    "    X = data[:,0:-1]\n",
    "    y = data[:,[-1]]\n",
    "    \n",
    "    loss = np.sum((np.dot(X, params) - y)**2) / (2 * mm)\n",
    "    \n",
    "    return loss"
   ]
  },
  {
   "cell_type": "code",
   "execution_count": 54,
   "id": "afcc4205",
   "metadata": {},
   "outputs": [],
   "source": [
    "range_list = list(range(m))\n",
    "random_list=random.sample(range_list,int(len(range_list)*0.8))\n",
    "rem_list=[i for i in range_list if i not in random_list]\n",
    "qlist=[0.5,1,2,4]\n",
    "lamda=np.arange(0,1,0.1)"
   ]
  },
  {
   "cell_type": "code",
   "execution_count": 55,
   "id": "e3e5d9c4",
   "metadata": {},
   "outputs": [],
   "source": [
    "def Cost(data,params,q,l):\n",
    "    mm = len(data)\n",
    "    x = data[:,0:-1]\n",
    "    y = data[:,-1].reshape(-1,1)\n",
    "    J = (np.sum((np.dot(x,params) - y) ** 2) + (l * (np.sum(np.absolute(params[1:]) ** q)) )) / (2*mm)\n",
    "    return J\n",
    "    "
   ]
  },
  {
   "cell_type": "code",
   "execution_count": 56,
   "id": "05e9a958",
   "metadata": {},
   "outputs": [],
   "source": [
    "def grad_desc(data,params,lr,epochs,q,l):\n",
    "    mm = len(data)\n",
    "    x = data[:,0:-1]\n",
    "    y = data[:,[-1]]\n",
    "    J_temp = np.zeros(epochs)\n",
    "    \n",
    "    for itr in range (epochs):\n",
    "        idx = np.random.randint(0, mm, 1)[0]\n",
    "        \n",
    "        if q == 0.5:\n",
    "            regval = np.ones(params.shape) \n",
    "            regval[0][0] = 0\n",
    "            for j in range(1, params.shape[0]):\n",
    "                if params[j][0] == 0:\n",
    "                    regval[j][0] = 0\n",
    "                elif params[j][0] > 0:\n",
    "                    regval[j][0] = (1/4)*(np.absolute(params[j][0])**(-0.5))\n",
    "                else:\n",
    "                    regval[j][0] = (-1/4)*(np.absolute(params[j][0])**(-0.5)) \n",
    "            \n",
    "            \n",
    "            \n",
    "        elif q == 1:\n",
    "            regval = np.ones(params.shape)\n",
    "            regval[0][0] = 0\n",
    "            for k in range(1,params.shape[0]):\n",
    "                if params[k][0] >= 0:\n",
    "                    regval[k][0]=1\n",
    "                else:\n",
    "                    regval[k][0]=0\n",
    "                    \n",
    "                    \n",
    "        elif q == 2:\n",
    "             regval = np.concatenate((np.array([0]).reshape(1,1), params[1:]), axis = 0)\n",
    "            \n",
    "            \n",
    "        elif q == 4:\n",
    "            regval = 2 * ((np.concatenate((np.array([0]).reshape(1,1) , params[1:] ) ,axis = 0)) ** 3)\n",
    "        \n",
    "        \n",
    "        \n",
    "        \n",
    "        \n",
    "        \n",
    "        loss = (x[idx].reshape(-1,1))  * (np.dot(x[idx].reshape(1,-1) , params)[0][0] - y[idx][0] )\n",
    "        \n",
    "        params = params - (lr) * (loss + regval*l)\n",
    "        J_temp[itr] = Cost(data,params,q,l)\n",
    "        \n",
    "    return params,J_temp \n",
    "    "
   ]
  },
  {
   "cell_type": "code",
   "execution_count": 57,
   "id": "8cac60b8",
   "metadata": {},
   "outputs": [],
   "source": [
    "J_train_stoc = []\n",
    "J_test_stoc = []"
   ]
  },
  {
   "cell_type": "code",
   "execution_count": 58,
   "id": "05f2044f",
   "metadata": {},
   "outputs": [],
   "source": [
    "for q in qlist:\n",
    "    for l in lamda:\n",
    "        train_data = data[random_list,:]\n",
    "        test_data = data[rem_list,:]\n",
    "        train_data,train_mean,train_std = norm_training(train_data)\n",
    "        n = data[:,0:-1].shape[1]\n",
    "        params = np.zeros((n,1))\n",
    "        \n",
    "        params,J_list = grad_desc(train_data,params,0.001,100000,q,l)\n",
    "        J_train_stoc.append(J_list[-1])\n",
    "        \n",
    "        test_data = norm_testing(test_data,train_mean,train_std)\n",
    "        \n",
    "        yhat = compute(test_data,params)\n",
    "        test_cost = testCost(test_data,params)\n",
    "        J_test_stoc.append(test_cost)"
   ]
  },
  {
   "cell_type": "code",
   "execution_count": 59,
   "id": "52d71b90",
   "metadata": {},
   "outputs": [
    {
     "data": {
      "text/plain": [
       "[0.8989579310386636,\n",
       " 0.8996693685229538,\n",
       " 0.9023430400911837,\n",
       " 0.914198608281662,\n",
       " 0.9746421710763279,\n",
       " 0.9406150939334819,\n",
       " 0.9828073142529671,\n",
       " 0.9519231857792679,\n",
       " 0.9846411022187798,\n",
       " 1.009261231470633,\n",
       " 0.9000265437827744,\n",
       " 0.9152561262165478,\n",
       " 0.9433714705290153,\n",
       " 0.9717923759655702,\n",
       " 1.0472939390526734,\n",
       " 1.0602109836512414,\n",
       " 1.1456908341526162,\n",
       " 1.2463127566514012,\n",
       " 1.2962385131986744,\n",
       " 1.2971462634261886,\n",
       " 0.8991849787907372,\n",
       " 0.8993172031980077,\n",
       " 0.9029639754936086,\n",
       " 0.9075087445086886,\n",
       " 0.9253152183984946,\n",
       " 0.9233250257450771,\n",
       " 0.9330737044713381,\n",
       " 0.9568989591201754,\n",
       " 0.9562567566733169,\n",
       " 0.9675156569094151,\n",
       " 0.8995207988258306,\n",
       " 0.8993906061149346,\n",
       " 0.9030951553776524,\n",
       " 0.9027455783763914,\n",
       " 0.9126381276409369,\n",
       " 0.9142157363100061,\n",
       " 0.9138458254604319,\n",
       " 0.9215331238726572,\n",
       " 0.9185566226813062,\n",
       " 0.9257797689244905]"
      ]
     },
     "execution_count": 59,
     "metadata": {},
     "output_type": "execute_result"
    }
   ],
   "source": [
    "J_train_stoc"
   ]
  },
  {
   "cell_type": "code",
   "execution_count": 60,
   "id": "5c4ea008",
   "metadata": {},
   "outputs": [
    {
     "data": {
      "text/plain": [
       "[1.0055242291233946,\n",
       " 1.0047956190000984,\n",
       " 1.0247980996796144,\n",
       " 1.0643033536271298,\n",
       " 1.1659713755268026,\n",
       " 1.1021152079021208,\n",
       " 1.1950189890426832,\n",
       " 1.1387208980368304,\n",
       " 1.2001854491092683,\n",
       " 1.2590225308226273,\n",
       " 0.9936354111518102,\n",
       " 1.0760169054263442,\n",
       " 1.1383776729647812,\n",
       " 1.1958541743653592,\n",
       " 1.3255081166677638,\n",
       " 1.3402913282563669,\n",
       " 1.464936465794839,\n",
       " 1.6328345883977307,\n",
       " 1.6859827644070413,\n",
       " 1.6792605692403684,\n",
       " 0.9896911823120673,\n",
       " 1.00999015885666,\n",
       " 1.0295776792210036,\n",
       " 1.060576659869661,\n",
       " 1.0993189682518012,\n",
       " 1.1022335011620874,\n",
       " 1.133984238846158,\n",
       " 1.1772700221567276,\n",
       " 1.1698390365176958,\n",
       " 1.2052145432718737,\n",
       " 0.99697936792271,\n",
       " 0.9951300354157295,\n",
       " 1.026058958618224,\n",
       " 1.0381886387766905,\n",
       " 1.0741235659089434,\n",
       " 1.0674608444902791,\n",
       " 1.0855548430365622,\n",
       " 1.099121758973906,\n",
       " 1.0737750886981616,\n",
       " 1.1153136965956876]"
      ]
     },
     "execution_count": 60,
     "metadata": {},
     "output_type": "execute_result"
    }
   ],
   "source": [
    "J_test_stoc"
   ]
  },
  {
   "cell_type": "code",
   "execution_count": 61,
   "id": "e09816fb",
   "metadata": {},
   "outputs": [
    {
     "data": {
      "text/plain": [
       "[<matplotlib.lines.Line2D at 0x26201688730>]"
      ]
     },
     "execution_count": 61,
     "metadata": {},
     "output_type": "execute_result"
    },
    {
     "data": {
      "image/png": "[encoded data removed]",
      "text/plain": [
       "<Figure size 432x288 with 1 Axes>"
      ]
     },
     "metadata": {
      "needs_background": "light"
     },
     "output_type": "display_data"
    }
   ],
   "source": [
    "plt.plot(J_train_stoc)"
   ]
  },
  {
   "cell_type": "code",
   "execution_count": 62,
   "id": "286d6cd7",
   "metadata": {},
   "outputs": [
    {
     "data": {
      "text/plain": [
       "[<matplotlib.lines.Line2D at 0x262016f7f70>]"
      ]
     },
     "execution_count": 62,
     "metadata": {},
     "output_type": "execute_result"
    },
    {
     "data": {
      "image/png": "[encoded data removed]",
      "text/plain": [
       "<Figure size 432x288 with 1 Axes>"
      ]
     },
     "metadata": {
      "needs_background": "light"
     },
     "output_type": "display_data"
    }
   ],
   "source": [
    "plt.plot(J_test_stoc)"
   ]
  },
  {
   "cell_type": "code",
   "execution_count": null,
   "id": "0d6d19f6",
   "metadata": {},
   "outputs": [],
   "source": []
  }
 ],
 "metadata": {
  "kernelspec": {
   "display_name": "Python 3 (ipykernel)",
   "language": "python",
   "name": "python3"
  },
  "language_info": {
   "codemirror_mode": {
    "name": "ipython",
    "version": 3
   },
   "file_extension": ".py",
   "mimetype": "text/x-python",
   "name": "python",
   "nbconvert_exporter": "python",
   "pygments_lexer": "ipython3",
   "version": "3.9.7"
  }
 },
 "nbformat": 4,
 "nbformat_minor": 5
}
