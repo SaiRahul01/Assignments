{
 "cells": [
  {
   "cell_type": "code",
   "execution_count": 20,
   "id": "76dc9952",
   "metadata": {},
   "outputs": [],
   "source": [
    "import numpy as np\n",
    "import pandas as pd\n",
    "import random\n",
    "import matplotlib.pyplot as plt\n",
    "from matplotlib import cm\n",
    "from mpl_toolkits.mplot3d import Axes3D"
   ]
  },
  {
   "cell_type": "code",
   "execution_count": 21,
   "id": "caf3f855",
   "metadata": {},
   "outputs": [],
   "source": [
    "df = pd.read_csv('./Dataset/fods_1.csv')\n",
    "df.head()\n",
    "m= len(df)"
   ]
  },
  {
   "cell_type": "code",
   "execution_count": 22,
   "id": "b610fac0",
   "metadata": {},
   "outputs": [
    {
     "data": {
      "text/plain": [
       "(546, 55)"
      ]
     },
     "execution_count": 22,
     "metadata": {},
     "output_type": "execute_result"
    }
   ],
   "source": [
    "f = np.ones((len(df),1))\n",
    "for i in range(1,10):\n",
    "    for j in range(0,i+1):\n",
    "        k = i - j\n",
    "#         print(k,j)\n",
    "        f = np.c_[f,(df['MLOGP']**k)*(df['RDCHI']**j)]\n",
    "f.shape"
   ]
  },
  {
   "cell_type": "markdown",
   "id": "34275c53",
   "metadata": {},
   "source": [
    "## Polynomial regression Stochastic"
   ]
  },
  {
   "cell_type": "code",
   "execution_count": 23,
   "id": "8dc439c7",
   "metadata": {},
   "outputs": [
    {
     "data": {
      "text/plain": [
       "array([[3.74 ],\n",
       "       [4.33 ],\n",
       "       [7.019],\n",
       "       [6.723],\n",
       "       [5.979]])"
      ]
     },
     "execution_count": 23,
     "metadata": {},
     "output_type": "execute_result"
    }
   ],
   "source": [
    "x = df.iloc[:,:2]\n",
    "y = df.iloc[:,[2]]\n",
    "y=y.to_numpy()\n",
    "# Error lists\n",
    "J_train = []\n",
    "J_test = []\n",
    "optimal_params =[]\n",
    "y[0:5]"
   ]
  },
  {
   "cell_type": "code",
   "execution_count": 24,
   "id": "cdc349eb",
   "metadata": {},
   "outputs": [],
   "source": [
    "def compute(data,params):\n",
    "    x = data[:,0:-1]\n",
    "    yhat = np.dot(x,params)\n",
    "    return yhat\n",
    "    "
   ]
  },
  {
   "cell_type": "code",
   "execution_count": 25,
   "id": "c7d11516",
   "metadata": {},
   "outputs": [],
   "source": [
    "def norm_training(data):\n",
    "    x = data[:,1:-1]\n",
    "    xm = np.mean(x,axis=0)\n",
    "    xs = np.std(x,axis=0)\n",
    "    norm_x=np.divide((x-xm),xs)\n",
    "    \n",
    "    res = np.c_[data[:,0],norm_x,data[:,-1]]\n",
    "    return res,xm,xs"
   ]
  },
  {
   "cell_type": "code",
   "execution_count": 26,
   "id": "5f64e2c6",
   "metadata": {},
   "outputs": [],
   "source": [
    "def norm_testing(data,xm,xs):\n",
    "    x = data[:,1:-1]\n",
    "    x_norm = np.divide((x - xm) ,xs)\n",
    "    res = np.c_[data[:,0],x_norm,data[:,-1]]\n",
    "    return res "
   ]
  },
  {
   "cell_type": "code",
   "execution_count": 27,
   "id": "7d6def91",
   "metadata": {},
   "outputs": [],
   "source": [
    "def Cost(data,params):\n",
    "    mm =len(data)\n",
    "    x = data[:,0:-1]\n",
    "    y = data[:,[-1]]\n",
    "    yhat = np.dot(x,params)\n",
    "    cost = np.sum( (yhat - y) **2) / (2*mm)\n",
    "    return cost"
   ]
  },
  {
   "cell_type": "code",
   "execution_count": 34,
   "id": "994520e7",
   "metadata": {},
   "outputs": [],
   "source": [
    "def grad_desc_stoc(data,params,lr=0.001,epochs=100000):\n",
    "    # data is m x d+1 dimension with required x and y values\n",
    "    mm = len(data)\n",
    "    x=data[:,0:-1]\n",
    "    y=data[:,[-1]]\n",
    "    J_list = []\n",
    "    \n",
    "    for itr in range(epochs):\n",
    "        idx =np.random.randint(0,mm,1)[0]\n",
    "        x_temp = x[idx].reshape(-1,1)\n",
    "        x_inv = x[idx].reshape(1,-1)\n",
    "        loss = (x_temp) * (np.dot(x_inv,params)[0][0] - y[idx][0])\n",
    "        params = params - (lr/mm)* loss\n",
    "        J_list.append(Cost(data,params) )\n",
    "    J_list = np.array(J_list)\n",
    "        \n",
    "   \n",
    "    return params,J_list\n",
    "    "
   ]
  },
  {
   "cell_type": "code",
   "execution_count": 35,
   "id": "b069884c",
   "metadata": {},
   "outputs": [],
   "source": [
    "J_train_stoc = []\n",
    "J_test_stoc = []"
   ]
  },
  {
   "cell_type": "code",
   "execution_count": 36,
   "id": "2800597c",
   "metadata": {},
   "outputs": [],
   "source": [
    "rangelist = list(range(m)) # 0 to 545\n",
    "size = int(len(rangelist) * 0.8)\n",
    "frac=random.sample(rangelist,size)\n",
    "rem=[i for i in rangelist if i not in frac]"
   ]
  },
  {
   "cell_type": "code",
   "execution_count": 37,
   "id": "e3346cc3",
   "metadata": {},
   "outputs": [],
   "source": [
    "for d in range (10):\n",
    "    X = np.ones((m,1))\n",
    "    if d>0:\n",
    "        cnt = int(((d+1)*(d+2))/2)\n",
    "        X = np.c_[X,f[:,1:cnt]]\n",
    "    data = np.c_[X,y]\n",
    "    \n",
    "    train_data = data[frac,:]\n",
    "    test_data = data[rem,:]\n",
    "    \n",
    "    params = np.zeros((X.shape[1],1))\n",
    "    \n",
    "    if d > 0:\n",
    "        train_data,train_mean,train_std = norm_training(train_data)\n",
    "    \n",
    "    params,J_list = grad_desc_stoc(train_data,params,0.01,100000)\n",
    "    optimal_params.append(params)\n",
    "    J_train_stoc.append(J_list[-1])\n",
    "    \n",
    "    if d>0:\n",
    "        test_data = norm_testing(test_data,train_mean,train_std)\n",
    "        \n",
    "    yhat = compute(test_data,params)\n",
    "    temp = Cost (test_data,params)\n",
    "    J_test_stoc.append(temp)\n",
    "    "
   ]
  },
  {
   "cell_type": "code",
   "execution_count": 33,
   "id": "00b6e391",
   "metadata": {
    "scrolled": true
   },
   "outputs": [
    {
     "data": {
      "text/plain": [
       "[1.3254469343901387,\n",
       " 0.9065122647881061,\n",
       " 0.8614009191405843,\n",
       " 0.8522523892734514,\n",
       " 0.8524180543413461,\n",
       " 0.876824109419821,\n",
       " 3.894499267271526e+125,\n",
       " 5.628778706042448e+248,\n",
       " inf,\n",
       " inf,\n",
       " 1.3255174278618016,\n",
       " 0.9061363008065275,\n",
       " 0.8955093422589238,\n",
       " 0.865399699437148,\n",
       " 0.8565213266287091,\n",
       " 0.8581886320414986,\n",
       " 0.8585759777713916,\n",
       " 0.8589806561966414,\n",
       " 0.8591707564482021,\n",
       " 0.8579880133015044]"
      ]
     },
     "execution_count": 33,
     "metadata": {},
     "output_type": "execute_result"
    }
   ],
   "source": [
    "J_train_stoc"
   ]
  },
  {
   "cell_type": "code",
   "execution_count": 14,
   "id": "7834f41c",
   "metadata": {},
   "outputs": [
    {
     "data": {
      "text/plain": [
       "[1.2960348149820016,\n",
       " 1.006553769408282,\n",
       " 0.9319342199485124,\n",
       " 0.9872925639051907,\n",
       " 0.9659090429448461,\n",
       " 0.9347050184485376,\n",
       " 2.0081221156695645e+112,\n",
       " 2.9086626347981815e+277,\n",
       " inf,\n",
       " inf]"
      ]
     },
     "execution_count": 14,
     "metadata": {},
     "output_type": "execute_result"
    }
   ],
   "source": [
    "J_test_stoc"
   ]
  }
 ],
 "metadata": {
  "kernelspec": {
   "display_name": "Python 3 (ipykernel)",
   "language": "python",
   "name": "python3"
  },
  "language_info": {
   "codemirror_mode": {
    "name": "ipython",
    "version": 3
   },
   "file_extension": ".py",
   "mimetype": "text/x-python",
   "name": "python",
   "nbconvert_exporter": "python",
   "pygments_lexer": "ipython3",
   "version": "3.9.7"
  }
 },
 "nbformat": 4,
 "nbformat_minor": 5
}
