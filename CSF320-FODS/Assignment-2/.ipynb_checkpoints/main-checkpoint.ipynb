{
 "cells": [
  {
   "cell_type": "markdown",
   "id": "dcd189e4",
   "metadata": {},
   "source": [
    "## Imports"
   ]
  },
  {
   "cell_type": "code",
   "execution_count": 1,
   "id": "479bf7fb",
   "metadata": {},
   "outputs": [],
   "source": [
    "import numpy as np\n",
    "import pandas as pd\n",
    "import matplotlib.pyplot as plt\n",
    "import random\n",
    "from matplotlib import cm\n",
    "from mpl_toolkits.mplot3d import Axes3D"
   ]
  },
  {
   "cell_type": "code",
   "execution_count": 2,
   "id": "fb703f4d",
   "metadata": {},
   "outputs": [],
   "source": [
    "import sklearn\n",
    "from sklearn.preprocessing import MinMaxScaler\n",
    "from sklearn.model_selection import train_test_split\n",
    "from sklearn.linear_model import LinearRegression\n",
    "from sklearn.decomposition import PCA\n",
    "from sklearn.metrics import mean_squared_error\n",
    "from numpy import corrcoef"
   ]
  },
  {
   "cell_type": "code",
   "execution_count": 3,
   "id": "5edd81e8",
   "metadata": {},
   "outputs": [],
   "source": [
    "df = pd.read_csv('./FODS-A2.csv')"
   ]
  },
  {
   "cell_type": "code",
   "execution_count": 4,
   "id": "18c83c24",
   "metadata": {},
   "outputs": [
    {
     "data": {
      "text/html": [
       "<div>\n",
       "<style scoped>\n",
       "    .dataframe tbody tr th:only-of-type {\n",
       "        vertical-align: middle;\n",
       "    }\n",
       "\n",
       "    .dataframe tbody tr th {\n",
       "        vertical-align: top;\n",
       "    }\n",
       "\n",
       "    .dataframe thead th {\n",
       "        text-align: right;\n",
       "    }\n",
       "</style>\n",
       "<table border=\"1\" class=\"dataframe\">\n",
       "  <thead>\n",
       "    <tr style=\"text-align: right;\">\n",
       "      <th></th>\n",
       "      <th>T1</th>\n",
       "      <th>RH_1</th>\n",
       "      <th>T2</th>\n",
       "      <th>RH_2</th>\n",
       "      <th>T3</th>\n",
       "      <th>RH_3</th>\n",
       "      <th>T4</th>\n",
       "      <th>RH_4</th>\n",
       "      <th>T5</th>\n",
       "      <th>RH_5</th>\n",
       "      <th>...</th>\n",
       "      <th>RH_9</th>\n",
       "      <th>T_out</th>\n",
       "      <th>Press_mm_hg</th>\n",
       "      <th>RH_out</th>\n",
       "      <th>Windspeed</th>\n",
       "      <th>Visibility</th>\n",
       "      <th>Tdewpoint</th>\n",
       "      <th>rv1</th>\n",
       "      <th>rv2</th>\n",
       "      <th>Appliances</th>\n",
       "    </tr>\n",
       "  </thead>\n",
       "  <tbody>\n",
       "    <tr>\n",
       "      <th>0</th>\n",
       "      <td>21.20</td>\n",
       "      <td>33.290</td>\n",
       "      <td>19.823333</td>\n",
       "      <td>31.790000</td>\n",
       "      <td>23.463333</td>\n",
       "      <td>38.230000</td>\n",
       "      <td>20.50</td>\n",
       "      <td>31.73</td>\n",
       "      <td>19.200000</td>\n",
       "      <td>39.363333</td>\n",
       "      <td>...</td>\n",
       "      <td>29.230000</td>\n",
       "      <td>9.85</td>\n",
       "      <td>756.183333</td>\n",
       "      <td>41.833333</td>\n",
       "      <td>4.833333</td>\n",
       "      <td>40.0</td>\n",
       "      <td>-2.67</td>\n",
       "      <td>42.017180</td>\n",
       "      <td>42.017180</td>\n",
       "      <td>290</td>\n",
       "    </tr>\n",
       "    <tr>\n",
       "      <th>1</th>\n",
       "      <td>21.79</td>\n",
       "      <td>38.500</td>\n",
       "      <td>19.500000</td>\n",
       "      <td>40.633333</td>\n",
       "      <td>22.500000</td>\n",
       "      <td>37.900000</td>\n",
       "      <td>21.00</td>\n",
       "      <td>37.90</td>\n",
       "      <td>20.033333</td>\n",
       "      <td>47.290000</td>\n",
       "      <td>...</td>\n",
       "      <td>40.326667</td>\n",
       "      <td>6.90</td>\n",
       "      <td>754.000000</td>\n",
       "      <td>75.000000</td>\n",
       "      <td>4.000000</td>\n",
       "      <td>40.0</td>\n",
       "      <td>2.80</td>\n",
       "      <td>24.624380</td>\n",
       "      <td>24.624380</td>\n",
       "      <td>50</td>\n",
       "    </tr>\n",
       "    <tr>\n",
       "      <th>2</th>\n",
       "      <td>22.39</td>\n",
       "      <td>41.390</td>\n",
       "      <td>20.200000</td>\n",
       "      <td>43.790000</td>\n",
       "      <td>24.500000</td>\n",
       "      <td>39.333333</td>\n",
       "      <td>20.10</td>\n",
       "      <td>38.26</td>\n",
       "      <td>19.390000</td>\n",
       "      <td>48.090000</td>\n",
       "      <td>...</td>\n",
       "      <td>42.060000</td>\n",
       "      <td>10.10</td>\n",
       "      <td>756.433333</td>\n",
       "      <td>68.000000</td>\n",
       "      <td>5.833333</td>\n",
       "      <td>40.0</td>\n",
       "      <td>4.45</td>\n",
       "      <td>3.731260</td>\n",
       "      <td>3.731260</td>\n",
       "      <td>260</td>\n",
       "    </tr>\n",
       "    <tr>\n",
       "      <th>3</th>\n",
       "      <td>24.00</td>\n",
       "      <td>30.260</td>\n",
       "      <td>24.390000</td>\n",
       "      <td>26.963333</td>\n",
       "      <td>23.390000</td>\n",
       "      <td>33.400000</td>\n",
       "      <td>22.79</td>\n",
       "      <td>31.20</td>\n",
       "      <td>21.033333</td>\n",
       "      <td>40.626667</td>\n",
       "      <td>...</td>\n",
       "      <td>35.500000</td>\n",
       "      <td>19.10</td>\n",
       "      <td>760.000000</td>\n",
       "      <td>31.000000</td>\n",
       "      <td>4.000000</td>\n",
       "      <td>40.0</td>\n",
       "      <td>1.50</td>\n",
       "      <td>1.058826</td>\n",
       "      <td>1.058826</td>\n",
       "      <td>50</td>\n",
       "    </tr>\n",
       "    <tr>\n",
       "      <th>4</th>\n",
       "      <td>20.05</td>\n",
       "      <td>38.245</td>\n",
       "      <td>17.600000</td>\n",
       "      <td>41.000000</td>\n",
       "      <td>21.100000</td>\n",
       "      <td>37.200000</td>\n",
       "      <td>19.89</td>\n",
       "      <td>36.40</td>\n",
       "      <td>18.200000</td>\n",
       "      <td>43.560000</td>\n",
       "      <td>...</td>\n",
       "      <td>38.863333</td>\n",
       "      <td>0.10</td>\n",
       "      <td>754.600000</td>\n",
       "      <td>99.000000</td>\n",
       "      <td>1.000000</td>\n",
       "      <td>32.0</td>\n",
       "      <td>-0.10</td>\n",
       "      <td>39.248108</td>\n",
       "      <td>39.248108</td>\n",
       "      <td>30</td>\n",
       "    </tr>\n",
       "  </tbody>\n",
       "</table>\n",
       "<p>5 rows × 27 columns</p>\n",
       "</div>"
      ],
      "text/plain": [
       "      T1    RH_1         T2       RH_2         T3       RH_3     T4   RH_4  \\\n",
       "0  21.20  33.290  19.823333  31.790000  23.463333  38.230000  20.50  31.73   \n",
       "1  21.79  38.500  19.500000  40.633333  22.500000  37.900000  21.00  37.90   \n",
       "2  22.39  41.390  20.200000  43.790000  24.500000  39.333333  20.10  38.26   \n",
       "3  24.00  30.260  24.390000  26.963333  23.390000  33.400000  22.79  31.20   \n",
       "4  20.05  38.245  17.600000  41.000000  21.100000  37.200000  19.89  36.40   \n",
       "\n",
       "          T5       RH_5  ...       RH_9  T_out  Press_mm_hg     RH_out  \\\n",
       "0  19.200000  39.363333  ...  29.230000   9.85   756.183333  41.833333   \n",
       "1  20.033333  47.290000  ...  40.326667   6.90   754.000000  75.000000   \n",
       "2  19.390000  48.090000  ...  42.060000  10.10   756.433333  68.000000   \n",
       "3  21.033333  40.626667  ...  35.500000  19.10   760.000000  31.000000   \n",
       "4  18.200000  43.560000  ...  38.863333   0.10   754.600000  99.000000   \n",
       "\n",
       "   Windspeed  Visibility  Tdewpoint        rv1        rv2  Appliances  \n",
       "0   4.833333        40.0      -2.67  42.017180  42.017180         290  \n",
       "1   4.000000        40.0       2.80  24.624380  24.624380          50  \n",
       "2   5.833333        40.0       4.45   3.731260   3.731260         260  \n",
       "3   4.000000        40.0       1.50   1.058826   1.058826          50  \n",
       "4   1.000000        32.0      -0.10  39.248108  39.248108          30  \n",
       "\n",
       "[5 rows x 27 columns]"
      ]
     },
     "execution_count": 4,
     "metadata": {},
     "output_type": "execute_result"
    }
   ],
   "source": [
    "df.head()"
   ]
  },
  {
   "cell_type": "code",
   "execution_count": 5,
   "id": "b6a165af",
   "metadata": {},
   "outputs": [
    {
     "data": {
      "text/plain": [
       "(7894, 27)"
      ]
     },
     "execution_count": 5,
     "metadata": {},
     "output_type": "execute_result"
    }
   ],
   "source": [
    "df.shape"
   ]
  },
  {
   "cell_type": "code",
   "execution_count": 6,
   "id": "3a2c1b8e",
   "metadata": {},
   "outputs": [],
   "source": [
    "data = df.to_numpy()\n",
    "f = list(df.columns)"
   ]
  },
  {
   "cell_type": "markdown",
   "id": "e07fd313",
   "metadata": {},
   "source": [
    "## Functions"
   ]
  },
  {
   "cell_type": "code",
   "execution_count": 7,
   "id": "dfd78261",
   "metadata": {},
   "outputs": [],
   "source": [
    "def predict(data,params):\n",
    "    X = data[:,0:-1]\n",
    "    Y = data[:,[-1]]\n",
    "    Yhat = np.dot(X,params)\n",
    "    return Yhat"
   ]
  },
  {
   "cell_type": "code",
   "execution_count": 8,
   "id": "c8e876a2",
   "metadata": {},
   "outputs": [],
   "source": [
    "def norm_train(data):\n",
    "    X = data[:,1:-1]\n",
    "    xm = np.mean(X,axis=0)\n",
    "    xs = np.std(X,axis=0)\n",
    "    norm_X = np.divide(X-xm,xs)\n",
    "    norm_data = np.c_[data[:,[0]],norm_X,data[:,[-1]]]\n",
    "    return norm_data,xm,xs"
   ]
  },
  {
   "cell_type": "code",
   "execution_count": 9,
   "id": "1fd14d10",
   "metadata": {},
   "outputs": [],
   "source": [
    "def norm_test(data,xm,xs):\n",
    "    X = data[:,1:-1]\n",
    "    norm_X = np.divide(X-xm,xs)\n",
    "    norm_data = np.c_[data[:,[0]],norm_X,data[:,[-1]]]\n",
    "    return norm_data"
   ]
  },
  {
   "cell_type": "code",
   "execution_count": 10,
   "id": "1c21e8bb",
   "metadata": {},
   "outputs": [],
   "source": [
    "def Cost(data,params):\n",
    "    m = len(data)\n",
    "    X = data[:,0:-1]\n",
    "    Y = data[:,[-1]]\n",
    "    \n",
    "    cost = np.sum((np.dot(X,params) - Y) **2) / (2*m)\n",
    "    return cost"
   ]
  },
  {
   "cell_type": "code",
   "execution_count": 11,
   "id": "655f8115",
   "metadata": {},
   "outputs": [],
   "source": [
    "def grad_desc(data,params,lr=0.01,epochs=1000):\n",
    "    m = len(data)\n",
    "    X = data[:,0:-1]\n",
    "    y = data[:,[-1]]\n",
    "    J = np.zeros(epochs)\n",
    "    \n",
    "    for i in range(epochs):\n",
    "        delta = np.dot(X.T, (np.dot(X, params) - y))\n",
    "        params = params - (lr/m)*delta\n",
    "        J[i] = Cost(data, params)\n",
    "        \n",
    "    return params, J"
   ]
  },
  {
   "cell_type": "code",
   "execution_count": 12,
   "id": "be5ec11b",
   "metadata": {},
   "outputs": [],
   "source": [
    "def split(data):\n",
    "    random.seed(30)\n",
    "    mm = len(data)\n",
    "    rangelist = list(range(mm))\n",
    "    sz = int(len(rangelist)*0.8)\n",
    "    frac = random.sample(rangelist,sz) \n",
    "    rem = [ val for val in rangelist if val not in frac]\n",
    "    \n",
    "    data_train = data[frac,:]\n",
    "    data_test = data[rem,:]\n",
    "    return data_train,data_test"
   ]
  },
  {
   "cell_type": "markdown",
   "id": "360ce9b1",
   "metadata": {},
   "source": [
    "## 2A) PCA"
   ]
  },
  {
   "cell_type": "code",
   "execution_count": 13,
   "id": "d0cc3e98",
   "metadata": {},
   "outputs": [],
   "source": [
    "def calc_pca(n,data):\n",
    "    X = data[:,0:-1]\n",
    "    pca = PCA(n_components=n)\n",
    "    pca.fit(X)\n",
    "    data_pca = pca.transform(X)\n",
    "    data_pca = np.concatenate((data_pca,data[:,[-1]]) , axis=1)\n",
    "    return pca,data_pca"
   ]
  },
  {
   "cell_type": "code",
   "execution_count": 14,
   "id": "e7310649",
   "metadata": {},
   "outputs": [],
   "source": [
    "pca_errorlist = []\n",
    "pca_eigenvals = []\n",
    "c  = np.ones((len(data),1))"
   ]
  },
  {
   "cell_type": "code",
   "execution_count": 15,
   "id": "4b6df10a",
   "metadata": {
    "scrolled": true
   },
   "outputs": [
    {
     "name": "stdout",
     "output_type": "stream",
     "text": [
      "data_train shape =  (6315, 3)  and params shape =  (2, 1)  for i =   1 \n",
      "\n",
      "data_train shape =  (6315, 4)  and params shape =  (3, 1)  for i =   2 \n",
      "\n",
      "data_train shape =  (6315, 5)  and params shape =  (4, 1)  for i =   3 \n",
      "\n",
      "data_train shape =  (6315, 6)  and params shape =  (5, 1)  for i =   4 \n",
      "\n",
      "data_train shape =  (6315, 7)  and params shape =  (6, 1)  for i =   5 \n",
      "\n",
      "data_train shape =  (6315, 8)  and params shape =  (7, 1)  for i =   6 \n",
      "\n",
      "data_train shape =  (6315, 9)  and params shape =  (8, 1)  for i =   7 \n",
      "\n",
      "data_train shape =  (6315, 10)  and params shape =  (9, 1)  for i =   8 \n",
      "\n",
      "data_train shape =  (6315, 11)  and params shape =  (10, 1)  for i =   9 \n",
      "\n",
      "data_train shape =  (6315, 12)  and params shape =  (11, 1)  for i =   10 \n",
      "\n",
      "data_train shape =  (6315, 13)  and params shape =  (12, 1)  for i =   11 \n",
      "\n",
      "data_train shape =  (6315, 14)  and params shape =  (13, 1)  for i =   12 \n",
      "\n",
      "data_train shape =  (6315, 15)  and params shape =  (14, 1)  for i =   13 \n",
      "\n",
      "data_train shape =  (6315, 16)  and params shape =  (15, 1)  for i =   14 \n",
      "\n",
      "data_train shape =  (6315, 17)  and params shape =  (16, 1)  for i =   15 \n",
      "\n",
      "data_train shape =  (6315, 18)  and params shape =  (17, 1)  for i =   16 \n",
      "\n",
      "data_train shape =  (6315, 19)  and params shape =  (18, 1)  for i =   17 \n",
      "\n",
      "data_train shape =  (6315, 20)  and params shape =  (19, 1)  for i =   18 \n",
      "\n",
      "data_train shape =  (6315, 21)  and params shape =  (20, 1)  for i =   19 \n",
      "\n",
      "data_train shape =  (6315, 22)  and params shape =  (21, 1)  for i =   20 \n",
      "\n",
      "data_train shape =  (6315, 23)  and params shape =  (22, 1)  for i =   21 \n",
      "\n",
      "data_train shape =  (6315, 24)  and params shape =  (23, 1)  for i =   22 \n",
      "\n",
      "data_train shape =  (6315, 25)  and params shape =  (24, 1)  for i =   23 \n",
      "\n",
      "data_train shape =  (6315, 26)  and params shape =  (25, 1)  for i =   24 \n",
      "\n",
      "data_train shape =  (6315, 27)  and params shape =  (26, 1)  for i =   25 \n",
      "\n",
      "data_train shape =  (6315, 28)  and params shape =  (27, 1)  for i =   26 \n",
      "\n"
     ]
    }
   ],
   "source": [
    "for i in range(1,27):\n",
    "    \n",
    "    pca,data_pca = calc_pca(i,data)\n",
    "    \n",
    "    eigenvals = list(pca.explained_variance_[0:i])\n",
    "    data_pca = np.concatenate((c, data_pca), axis = 1)\n",
    "    \n",
    "    data_train,data_test = split(data_pca)\n",
    "\n",
    "    \n",
    "    params =  np.zeros((data_pca.shape[1] - 1, 1))\n",
    "    \n",
    "    data_train,data_train_mean,data_train_std = norm_train(data_train)\n",
    "    \n",
    "    print(\"data_train shape = \",data_train.shape,\" and params shape = \",params.shape,\" for i =  \",i,\"\\n\")\n",
    "    params,J_hist = grad_desc(data_train,params,0.01,1000)\n",
    "    \n",
    "    train_error = J_hist[-1]\n",
    "    \n",
    "    data_test = norm_test(data_test,data_train_mean,data_train_std)\n",
    "#     print(\"data_test shape = \",data_test.shape, \" Params shape = \",params.shape,\"\\n\")\n",
    "    yhat = predict(data_test,params)\n",
    "    \n",
    "    test_error = Cost(data_test,params)\n",
    "    \n",
    "    \n",
    "    pca_errorlist.append([i,train_error,test_error])\n",
    "    pca_eigenvals.append(eigenvals)\n",
    "#     print(\"data_train shape = \",data_train.shape,\" and params shape = \",params.shape,\" for i =  \",i,\"is exiting \\n\")\n",
    "    \n",
    "    \n",
    "    "
   ]
  },
  {
   "cell_type": "markdown",
   "id": "ae4ab191",
   "metadata": {},
   "source": [
    "## Correlation coefficient"
   ]
  },
  {
   "cell_type": "code",
   "execution_count": 16,
   "id": "ab9d786a",
   "metadata": {},
   "outputs": [],
   "source": [
    "def correlation_coeff(data):\n",
    "    coeff_org = []\n",
    "    coeff_abs = []\n",
    "    for i in range(1,27):\n",
    "        corr = corrcoef(data[:,i-1],data[:,-1])[0][1]\n",
    "        coeff_org.append([i,corr])\n",
    "        coeff_abs.append([i,abs(corr)])\n",
    "        coeff_sorted = sorted(coeff_abs,key = lambda l:l[1],reverse=True)\n",
    "        \n",
    "    return  coeff_sorted,coeff_org"
   ]
  },
  {
   "cell_type": "code",
   "execution_count": 17,
   "id": "8ae731ce",
   "metadata": {},
   "outputs": [
    {
     "data": {
      "text/plain": [
       "[[21, 0.15788804064111284],\n",
       " [11, 0.1157990544069468],\n",
       " [3, 0.10954237300483136],\n",
       " [19, 0.09890810764010086],\n",
       " [16, 0.09104028998178089]]"
      ]
     },
     "execution_count": 17,
     "metadata": {},
     "output_type": "execute_result"
    }
   ],
   "source": [
    "coeffs,coeff_org = correlation_coeff(data)\n",
    "coeffs[0:5]"
   ]
  },
  {
   "cell_type": "code",
   "execution_count": 18,
   "id": "a01da363",
   "metadata": {},
   "outputs": [],
   "source": [
    "corr_errors = []\n",
    "corr_f = []\n",
    "const = np.ones((len(data),1))"
   ]
  },
  {
   "cell_type": "code",
   "execution_count": 21,
   "id": "8011a05c",
   "metadata": {},
   "outputs": [
    {
     "name": "stdout",
     "output_type": "stream",
     "text": [
      "data_train shape =  (6315, 3)  and params shape =  (2, 1)  for i =   1 \n",
      "\n",
      "data_train shape =  (6315, 4)  and params shape =  (3, 1)  for i =   2 \n",
      "\n",
      "data_train shape =  (6315, 5)  and params shape =  (4, 1)  for i =   3 \n",
      "\n",
      "data_train shape =  (6315, 6)  and params shape =  (5, 1)  for i =   4 \n",
      "\n",
      "data_train shape =  (6315, 7)  and params shape =  (6, 1)  for i =   5 \n",
      "\n",
      "data_train shape =  (6315, 8)  and params shape =  (7, 1)  for i =   6 \n",
      "\n",
      "data_train shape =  (6315, 9)  and params shape =  (8, 1)  for i =   7 \n",
      "\n",
      "data_train shape =  (6315, 10)  and params shape =  (9, 1)  for i =   8 \n",
      "\n",
      "data_train shape =  (6315, 11)  and params shape =  (10, 1)  for i =   9 \n",
      "\n",
      "data_train shape =  (6315, 12)  and params shape =  (11, 1)  for i =   10 \n",
      "\n",
      "data_train shape =  (6315, 13)  and params shape =  (12, 1)  for i =   11 \n",
      "\n",
      "data_train shape =  (6315, 14)  and params shape =  (13, 1)  for i =   12 \n",
      "\n",
      "data_train shape =  (6315, 15)  and params shape =  (14, 1)  for i =   13 \n",
      "\n",
      "data_train shape =  (6315, 16)  and params shape =  (15, 1)  for i =   14 \n",
      "\n",
      "data_train shape =  (6315, 17)  and params shape =  (16, 1)  for i =   15 \n",
      "\n",
      "data_train shape =  (6315, 18)  and params shape =  (17, 1)  for i =   16 \n",
      "\n",
      "data_train shape =  (6315, 19)  and params shape =  (18, 1)  for i =   17 \n",
      "\n",
      "data_train shape =  (6315, 20)  and params shape =  (19, 1)  for i =   18 \n",
      "\n",
      "data_train shape =  (6315, 21)  and params shape =  (20, 1)  for i =   19 \n",
      "\n",
      "data_train shape =  (6315, 22)  and params shape =  (21, 1)  for i =   20 \n",
      "\n",
      "data_train shape =  (6315, 23)  and params shape =  (22, 1)  for i =   21 \n",
      "\n",
      "data_train shape =  (6315, 24)  and params shape =  (23, 1)  for i =   22 \n",
      "\n",
      "data_train shape =  (6315, 25)  and params shape =  (24, 1)  for i =   23 \n",
      "\n",
      "data_train shape =  (6315, 26)  and params shape =  (25, 1)  for i =   24 \n",
      "\n",
      "data_train shape =  (6315, 27)  and params shape =  (26, 1)  for i =   25 \n",
      "\n",
      "data_train shape =  (6315, 28)  and params shape =  (27, 1)  for i =   26 \n",
      "\n"
     ]
    }
   ],
   "source": [
    "for n in range(1, 27):\n",
    "    cols = []\n",
    "    for i in range(n):\n",
    "        cols.append(coeffs[i][0] - 1)\n",
    "    \n",
    "    feat = [f[i] for i in cols]\n",
    "    corr_f.append(feat)\n",
    "        \n",
    "    corr_data = data[:,cols]\n",
    "    corr_data = np.concatenate((corr_data, data[:,[-1]]), axis=1)\n",
    "    corr_data = np.concatenate((const, corr_data), axis = 1)\n",
    "    \n",
    "    data_train, data_test = split(corr_data)\n",
    "    \n",
    "    params = np.zeros((corr_data.shape[1] - 1, 1))\n",
    "    \n",
    "    data_train, train_mean, train_std = norm_train(data_train)\n",
    "    print(\"data_train shape = \",data_train.shape,\" and params shape = \",params.shape,\" for i =  \",n,\"\\n\")\n",
    "        \n",
    "    params, J_history = grad_desc(data_train, params, 0.01, 10**3)\n",
    "    \n",
    "    training_error = J_history[-1]\n",
    "    \n",
    "    data_test = norm_test(data_test, train_mean, train_std)\n",
    "    yhat = predict(data_test, params)\n",
    "    testing_error = Cost(data_test, params)\n",
    "    \n",
    "    corr_errors.append([n, training_error, testing_error]) "
   ]
  },
  {
   "cell_type": "code",
   "execution_count": null,
   "id": "0a2f1bed",
   "metadata": {},
   "outputs": [],
   "source": []
  }
 ],
 "metadata": {
  "kernelspec": {
   "display_name": "Python 3 (ipykernel)",
   "language": "python",
   "name": "python3"
  },
  "language_info": {
   "codemirror_mode": {
    "name": "ipython",
    "version": 3
   },
   "file_extension": ".py",
   "mimetype": "text/x-python",
   "name": "python",
   "nbconvert_exporter": "python",
   "pygments_lexer": "ipython3",
   "version": "3.9.7"
  }
 },
 "nbformat": 4,
 "nbformat_minor": 5
}
