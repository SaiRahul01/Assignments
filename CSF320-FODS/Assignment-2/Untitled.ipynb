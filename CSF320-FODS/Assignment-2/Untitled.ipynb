{
 "cells": [
  {
   "cell_type": "code",
   "execution_count": 1,
   "id": "197f3a12",
   "metadata": {},
   "outputs": [],
   "source": [
    "import numpy as np\n",
    "import pandas as pd\n",
    "import matplotlib.pyplot as plt\n",
    "import random\n",
    "from matplotlib import cm\n",
    "from mpl_toolkits.mplot3d import Axes3D\n",
    "import sklearn\n",
    "from sklearn.decomposition import PCA"
   ]
  },
  {
   "cell_type": "code",
   "execution_count": 2,
   "id": "152262a2",
   "metadata": {},
   "outputs": [],
   "source": [
    "df = pd.read_csv('./FODS-A2.csv')\n",
    "data = df.to_numpy()\n",
    "x= data[:,0:-1]"
   ]
  },
  {
   "cell_type": "code",
   "execution_count": 3,
   "id": "5a4243d5",
   "metadata": {},
   "outputs": [
    {
     "data": {
      "text/plain": [
       "(7894, 27)"
      ]
     },
     "execution_count": 3,
     "metadata": {},
     "output_type": "execute_result"
    }
   ],
   "source": [
    "data.shape"
   ]
  },
  {
   "cell_type": "code",
   "execution_count": 4,
   "id": "b4754ee8",
   "metadata": {},
   "outputs": [
    {
     "data": {
      "text/plain": [
       "(7894, 26)"
      ]
     },
     "execution_count": 4,
     "metadata": {},
     "output_type": "execute_result"
    }
   ],
   "source": [
    "x.shape"
   ]
  },
  {
   "cell_type": "code",
   "execution_count": 5,
   "id": "a88e510c",
   "metadata": {},
   "outputs": [
    {
     "data": {
      "text/plain": [
       "array([[ 21.2       ,  33.29      ,  19.82333333,  31.79      ,\n",
       "         23.46333333,  38.23      ,  20.5       ,  31.73      ,\n",
       "         19.2       ,  39.36333333,  10.26333333,   1.        ,\n",
       "         19.79      ,  24.29      ,  21.89      ,  34.46666667,\n",
       "         18.79      ,  29.23      ,   9.85      , 756.1833333 ,\n",
       "         41.83333333,   4.83333333,  40.        ,  -2.67      ,\n",
       "         42.01718009,  42.01718009]])"
      ]
     },
     "execution_count": 5,
     "metadata": {},
     "output_type": "execute_result"
    }
   ],
   "source": [
    "x[0:1,:]"
   ]
  },
  {
   "cell_type": "code",
   "execution_count": 6,
   "id": "479121c0",
   "metadata": {},
   "outputs": [],
   "source": [
    "pca = PCA(n_components=4)"
   ]
  },
  {
   "cell_type": "code",
   "execution_count": 7,
   "id": "80ed3c65",
   "metadata": {},
   "outputs": [
    {
     "data": {
      "text/plain": [
       "PCA(n_components=4)"
      ]
     },
     "execution_count": 7,
     "metadata": {},
     "output_type": "execute_result"
    }
   ],
   "source": [
    "pca.fit(x)"
   ]
  },
  {
   "cell_type": "code",
   "execution_count": 8,
   "id": "eca59f0b",
   "metadata": {},
   "outputs": [
    {
     "data": {
      "text/plain": [
       "PCA(n_components=4)"
      ]
     },
     "execution_count": 8,
     "metadata": {},
     "output_type": "execute_result"
    }
   ],
   "source": [
    "pca"
   ]
  },
  {
   "cell_type": "code",
   "execution_count": 9,
   "id": "60dbef24",
   "metadata": {},
   "outputs": [],
   "source": [
    "data_pca = pca.transform(x)"
   ]
  },
  {
   "cell_type": "code",
   "execution_count": 12,
   "id": "5bdefb9f",
   "metadata": {},
   "outputs": [
    {
     "data": {
      "text/plain": [
       "(7894, 4)"
      ]
     },
     "execution_count": 12,
     "metadata": {},
     "output_type": "execute_result"
    }
   ],
   "source": [
    "data_pca.shape"
   ]
  },
  {
   "cell_type": "code",
   "execution_count": 15,
   "id": "c515397e",
   "metadata": {},
   "outputs": [],
   "source": [
    "data_pca = np.concatenate((data_pca,data[:,[-1]]),axis=1)"
   ]
  },
  {
   "cell_type": "code",
   "execution_count": 16,
   "id": "1afdd020",
   "metadata": {},
   "outputs": [
    {
     "data": {
      "text/plain": [
       "(7894, 5)"
      ]
     },
     "execution_count": 16,
     "metadata": {},
     "output_type": "execute_result"
    }
   ],
   "source": [
    "data_pca.shape"
   ]
  },
  {
   "cell_type": "code",
   "execution_count": 17,
   "id": "5c86b653",
   "metadata": {},
   "outputs": [],
   "source": [
    "eigenvals = list(pca.explained_variance_[0:4])"
   ]
  },
  {
   "cell_type": "code",
   "execution_count": 18,
   "id": "a4614e4b",
   "metadata": {},
   "outputs": [
    {
     "data": {
      "text/plain": [
       "[1172.1303587214952, 411.86303325632525, 157.0675005781606, 134.90854249065788]"
      ]
     },
     "execution_count": 18,
     "metadata": {},
     "output_type": "execute_result"
    }
   ],
   "source": [
    "eigenvals"
   ]
  },
  {
   "cell_type": "code",
   "execution_count": null,
   "id": "1bd6fc79",
   "metadata": {},
   "outputs": [],
   "source": []
  }
 ],
 "metadata": {
  "kernelspec": {
   "display_name": "Python 3 (ipykernel)",
   "language": "python",
   "name": "python3"
  },
  "language_info": {
   "codemirror_mode": {
    "name": "ipython",
    "version": 3
   },
   "file_extension": ".py",
   "mimetype": "text/x-python",
   "name": "python",
   "nbconvert_exporter": "python",
   "pygments_lexer": "ipython3",
   "version": "3.9.7"
  }
 },
 "nbformat": 4,
 "nbformat_minor": 5
}
